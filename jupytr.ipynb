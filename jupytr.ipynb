{
 "cells": [
  {
   "cell_type": "markdown",
   "metadata": {},
   "source": [
    "# Pregled in analiza najbolj popularnih pesmi leta 2018\n",
    "Kot vsakodnevni uživalec in ustvarjalec tako popularne kot manj popularne glasbe sem bil skorajda primoran poskušati poiskati pot do popolnega univerzalnega recepta za hit pesem leta 2018. Recepta, ki do sedaj še ni bil najden. Ali bo še naprej ostal skrit?\n",
    "Seveda, ker se osnovno znanje programiranja in nekaj podatkov, ki jih ponuja https://www.billboard.com/, ni izkazalo dovolj za odkritje takšne magnitude. Morda svet ni bil pripravljen. Vseeno sem se trudil z iskanjem povezav med popularnostjo pesmi (najvišje mesto, ki ga je dosegla na lestvici, število tednov bivanja pesmi na lestvici, ipd.) in nekaterimi ostalimi podatki o pesmi, ki sem jih uspel izluščiti (število črk oz. besed v naslovu, število izvajalcev pesmi)."
   ]
  },
  {
   "cell_type": "code",
   "execution_count": 277,
   "metadata": {},
   "outputs": [],
   "source": [
    "import pandas as pd\n",
    "%matplotlib inline\n",
    "\n",
    "pd.options.display.max_rows = 20\n",
    "pesmi = pd.read_csv('videne.csv',index_col = 'id').drop(columns = 'mesto_na_lestvici')\n",
    "pesmi['feats'] = 1 + pesmi['ime_izvajalca'].str.count('Featuring') + pesmi['ime_izvajalca'].str.count(',') + pesmi['ime_izvajalca'].str.count('&')\n",
    "pesmi['wrdz'] = 1 + pesmi['naslov_pesmi'].str.count(' ')\n",
    "pesmi['ltrz'] = pesmi['naslov_pesmi'].str.len()\n",
    "\n",
    "grpd = pesmi.groupby('ime_izvajalca').size().to_frame('vseh_od_izv')\n",
    "tabela = pd.merge(pesmi, grpd, on='ime_izvajalca')"
   ]
  },
  {
   "cell_type": "markdown",
   "metadata": {},
   "source": [
    "# Splošne opazke\n",
    "Na Billboardovi strani lahko za vsak teden od začetka avgusta leta 1958 najdemo lestvico 100 najpopularnejših pesmi tistega tedna. Mene je zanimalo le 52 tednov, ki so imeli kakšen dan leta 2018. Tega leta se je na lestvicah zvrstilo le 704 pesmi, kar ne pomeni niti dveh novih pesmi na dan. Osem parov različnih pesmi je imelo enak naslov, kar tri pesmi pa so bile naslovljene 'Friends', kar smatram kot opomnik kako pomembni so prijatelji.\n",
    "Našel sem tudi nekaj starejših pesmi, med drugim 'Thriller' iz leta 1982 ter, zahvaljujoč slavi istoimenskega filma, tudi 'Bohemian Rhapsody'."
   ]
  },
  {
   "cell_type": "code",
   "execution_count": 278,
   "metadata": {
    "scrolled": true
   },
   "outputs": [
    {
     "data": {
      "text/html": [
       "<div>\n",
       "<style scoped>\n",
       "    .dataframe tbody tr th:only-of-type {\n",
       "        vertical-align: middle;\n",
       "    }\n",
       "\n",
       "    .dataframe tbody tr th {\n",
       "        vertical-align: top;\n",
       "    }\n",
       "\n",
       "    .dataframe thead th {\n",
       "        text-align: right;\n",
       "    }\n",
       "</style>\n",
       "<table border=\"1\" class=\"dataframe\">\n",
       "  <thead>\n",
       "    <tr style=\"text-align: right;\">\n",
       "      <th></th>\n",
       "      <th>ime_izvajalca</th>\n",
       "      <th>naslov_pesmi</th>\n",
       "      <th>tednov_na_lestvici</th>\n",
       "      <th>najvišje_mesto</th>\n",
       "      <th>tednov</th>\n",
       "      <th>povp_mesto</th>\n",
       "      <th>feats</th>\n",
       "      <th>wrdz</th>\n",
       "      <th>ltrz</th>\n",
       "    </tr>\n",
       "    <tr>\n",
       "      <th>id</th>\n",
       "      <th></th>\n",
       "      <th></th>\n",
       "      <th></th>\n",
       "      <th></th>\n",
       "      <th></th>\n",
       "      <th></th>\n",
       "      <th></th>\n",
       "      <th></th>\n",
       "      <th></th>\n",
       "    </tr>\n",
       "  </thead>\n",
       "  <tbody>\n",
       "    <tr>\n",
       "      <td>0</td>\n",
       "      <td>Ed Sheeran</td>\n",
       "      <td>Perfect</td>\n",
       "      <td>57</td>\n",
       "      <td>1</td>\n",
       "      <td>40</td>\n",
       "      <td>12.000000</td>\n",
       "      <td>1</td>\n",
       "      <td>1</td>\n",
       "      <td>7</td>\n",
       "    </tr>\n",
       "    <tr>\n",
       "      <td>1</td>\n",
       "      <td>Post Malone Featuring 21 Savage</td>\n",
       "      <td>Rockstar</td>\n",
       "      <td>41</td>\n",
       "      <td>1</td>\n",
       "      <td>27</td>\n",
       "      <td>15.370370</td>\n",
       "      <td>2</td>\n",
       "      <td>1</td>\n",
       "      <td>8</td>\n",
       "    </tr>\n",
       "    <tr>\n",
       "      <td>2</td>\n",
       "      <td>Camila Cabello Featuring Young Thug</td>\n",
       "      <td>Havana</td>\n",
       "      <td>46</td>\n",
       "      <td>2</td>\n",
       "      <td>27</td>\n",
       "      <td>14.555556</td>\n",
       "      <td>2</td>\n",
       "      <td>1</td>\n",
       "      <td>6</td>\n",
       "    </tr>\n",
       "    <tr>\n",
       "      <td>3</td>\n",
       "      <td>G-Eazy Featuring A$AP Rocky &amp; Cardi B</td>\n",
       "      <td>No Limit</td>\n",
       "      <td>29</td>\n",
       "      <td>4</td>\n",
       "      <td>14</td>\n",
       "      <td>21.285714</td>\n",
       "      <td>3</td>\n",
       "      <td>2</td>\n",
       "      <td>8</td>\n",
       "    </tr>\n",
       "    <tr>\n",
       "      <td>4</td>\n",
       "      <td>Imagine Dragons</td>\n",
       "      <td>Thunder</td>\n",
       "      <td>52</td>\n",
       "      <td>4</td>\n",
       "      <td>18</td>\n",
       "      <td>18.111111</td>\n",
       "      <td>1</td>\n",
       "      <td>1</td>\n",
       "      <td>7</td>\n",
       "    </tr>\n",
       "    <tr>\n",
       "      <td>...</td>\n",
       "      <td>...</td>\n",
       "      <td>...</td>\n",
       "      <td>...</td>\n",
       "      <td>...</td>\n",
       "      <td>...</td>\n",
       "      <td>...</td>\n",
       "      <td>...</td>\n",
       "      <td>...</td>\n",
       "      <td>...</td>\n",
       "    </tr>\n",
       "    <tr>\n",
       "      <td>699</td>\n",
       "      <td>Kodak Black</td>\n",
       "      <td>Testimony</td>\n",
       "      <td>1</td>\n",
       "      <td>74</td>\n",
       "      <td>1</td>\n",
       "      <td>74.000000</td>\n",
       "      <td>1</td>\n",
       "      <td>1</td>\n",
       "      <td>9</td>\n",
       "    </tr>\n",
       "    <tr>\n",
       "      <td>700</td>\n",
       "      <td>Ava Max</td>\n",
       "      <td>Sweet But Psycho</td>\n",
       "      <td>1</td>\n",
       "      <td>87</td>\n",
       "      <td>1</td>\n",
       "      <td>87.000000</td>\n",
       "      <td>1</td>\n",
       "      <td>3</td>\n",
       "      <td>16</td>\n",
       "    </tr>\n",
       "    <tr>\n",
       "      <td>701</td>\n",
       "      <td>Kodak Black Featuring Lil Pump</td>\n",
       "      <td>Gnarly</td>\n",
       "      <td>1</td>\n",
       "      <td>88</td>\n",
       "      <td>1</td>\n",
       "      <td>88.000000</td>\n",
       "      <td>2</td>\n",
       "      <td>1</td>\n",
       "      <td>6</td>\n",
       "    </tr>\n",
       "    <tr>\n",
       "      <td>702</td>\n",
       "      <td>Lauren Daigle</td>\n",
       "      <td>The Christmas Song</td>\n",
       "      <td>1</td>\n",
       "      <td>90</td>\n",
       "      <td>1</td>\n",
       "      <td>90.000000</td>\n",
       "      <td>1</td>\n",
       "      <td>3</td>\n",
       "      <td>18</td>\n",
       "    </tr>\n",
       "    <tr>\n",
       "      <td>703</td>\n",
       "      <td>Calboy</td>\n",
       "      <td>Envy Me</td>\n",
       "      <td>1</td>\n",
       "      <td>91</td>\n",
       "      <td>1</td>\n",
       "      <td>91.000000</td>\n",
       "      <td>1</td>\n",
       "      <td>2</td>\n",
       "      <td>7</td>\n",
       "    </tr>\n",
       "  </tbody>\n",
       "</table>\n",
       "<p>704 rows × 9 columns</p>\n",
       "</div>"
      ],
      "text/plain": [
       "                             ime_izvajalca        naslov_pesmi  \\\n",
       "id                                                               \n",
       "0                               Ed Sheeran             Perfect   \n",
       "1          Post Malone Featuring 21 Savage            Rockstar   \n",
       "2      Camila Cabello Featuring Young Thug              Havana   \n",
       "3    G-Eazy Featuring A$AP Rocky & Cardi B            No Limit   \n",
       "4                          Imagine Dragons             Thunder   \n",
       "..                                     ...                 ...   \n",
       "699                            Kodak Black           Testimony   \n",
       "700                                Ava Max    Sweet But Psycho   \n",
       "701         Kodak Black Featuring Lil Pump              Gnarly   \n",
       "702                          Lauren Daigle  The Christmas Song   \n",
       "703                                 Calboy             Envy Me   \n",
       "\n",
       "     tednov_na_lestvici  najvišje_mesto  tednov  povp_mesto  feats  wrdz  ltrz  \n",
       "id                                                                              \n",
       "0                    57               1      40   12.000000      1     1     7  \n",
       "1                    41               1      27   15.370370      2     1     8  \n",
       "2                    46               2      27   14.555556      2     1     6  \n",
       "3                    29               4      14   21.285714      3     2     8  \n",
       "4                    52               4      18   18.111111      1     1     7  \n",
       "..                  ...             ...     ...         ...    ...   ...   ...  \n",
       "699                   1              74       1   74.000000      1     1     9  \n",
       "700                   1              87       1   87.000000      1     3    16  \n",
       "701                   1              88       1   88.000000      2     1     6  \n",
       "702                   1              90       1   90.000000      1     3    18  \n",
       "703                   1              91       1   91.000000      1     2     7  \n",
       "\n",
       "[704 rows x 9 columns]"
      ]
     },
     "execution_count": 278,
     "metadata": {},
     "output_type": "execute_result"
    }
   ],
   "source": [
    "pesmi"
   ]
  },
  {
   "cell_type": "code",
   "execution_count": 280,
   "metadata": {
    "scrolled": false
   },
   "outputs": [
    {
     "data": {
      "text/html": [
       "<div>\n",
       "<style scoped>\n",
       "    .dataframe tbody tr th:only-of-type {\n",
       "        vertical-align: middle;\n",
       "    }\n",
       "\n",
       "    .dataframe tbody tr th {\n",
       "        vertical-align: top;\n",
       "    }\n",
       "\n",
       "    .dataframe thead th {\n",
       "        text-align: right;\n",
       "    }\n",
       "</style>\n",
       "<table border=\"1\" class=\"dataframe\">\n",
       "  <thead>\n",
       "    <tr style=\"text-align: right;\">\n",
       "      <th></th>\n",
       "      <th>ime_izvajalca</th>\n",
       "      <th>naslov_pesmi</th>\n",
       "      <th>tednov_na_lestvici</th>\n",
       "      <th>najvišje_mesto</th>\n",
       "      <th>tednov</th>\n",
       "      <th>povp_mesto</th>\n",
       "      <th>feats</th>\n",
       "      <th>wrdz</th>\n",
       "      <th>ltrz</th>\n",
       "      <th>vseh_od_izv</th>\n",
       "    </tr>\n",
       "  </thead>\n",
       "  <tbody>\n",
       "    <tr>\n",
       "      <td>351</td>\n",
       "      <td>Swae Lee Featuring Slim Jxmmi</td>\n",
       "      <td>Guatemala</td>\n",
       "      <td>1</td>\n",
       "      <td>84</td>\n",
       "      <td>1</td>\n",
       "      <td>84.000000</td>\n",
       "      <td>2</td>\n",
       "      <td>1</td>\n",
       "      <td>9</td>\n",
       "      <td>1</td>\n",
       "    </tr>\n",
       "    <tr>\n",
       "      <td>445</td>\n",
       "      <td>KIDS SEE GHOSTS Featuring Louis Prima</td>\n",
       "      <td>4th Dimension</td>\n",
       "      <td>1</td>\n",
       "      <td>42</td>\n",
       "      <td>1</td>\n",
       "      <td>42.000000</td>\n",
       "      <td>2</td>\n",
       "      <td>2</td>\n",
       "      <td>13</td>\n",
       "      <td>1</td>\n",
       "    </tr>\n",
       "    <tr>\n",
       "      <td>438</td>\n",
       "      <td>Becky G + Natti Natasha</td>\n",
       "      <td>Sin Pijama</td>\n",
       "      <td>12</td>\n",
       "      <td>99</td>\n",
       "      <td>12</td>\n",
       "      <td>89.333333</td>\n",
       "      <td>1</td>\n",
       "      <td>2</td>\n",
       "      <td>10</td>\n",
       "      <td>1</td>\n",
       "    </tr>\n",
       "    <tr>\n",
       "      <td>437</td>\n",
       "      <td>Weezer</td>\n",
       "      <td>Africa</td>\n",
       "      <td>15</td>\n",
       "      <td>89</td>\n",
       "      <td>15</td>\n",
       "      <td>68.400000</td>\n",
       "      <td>1</td>\n",
       "      <td>1</td>\n",
       "      <td>6</td>\n",
       "      <td>1</td>\n",
       "    </tr>\n",
       "    <tr>\n",
       "      <td>436</td>\n",
       "      <td>Gorillaz Featuring George Benson</td>\n",
       "      <td>Humility</td>\n",
       "      <td>1</td>\n",
       "      <td>85</td>\n",
       "      <td>1</td>\n",
       "      <td>85.000000</td>\n",
       "      <td>2</td>\n",
       "      <td>1</td>\n",
       "      <td>8</td>\n",
       "      <td>1</td>\n",
       "    </tr>\n",
       "    <tr>\n",
       "      <td>...</td>\n",
       "      <td>...</td>\n",
       "      <td>...</td>\n",
       "      <td>...</td>\n",
       "      <td>...</td>\n",
       "      <td>...</td>\n",
       "      <td>...</td>\n",
       "      <td>...</td>\n",
       "      <td>...</td>\n",
       "      <td>...</td>\n",
       "      <td>...</td>\n",
       "    </tr>\n",
       "    <tr>\n",
       "      <td>210</td>\n",
       "      <td>Drake</td>\n",
       "      <td>8 Out Of 10</td>\n",
       "      <td>3</td>\n",
       "      <td>21</td>\n",
       "      <td>3</td>\n",
       "      <td>59.333333</td>\n",
       "      <td>1</td>\n",
       "      <td>4</td>\n",
       "      <td>11</td>\n",
       "      <td>23</td>\n",
       "    </tr>\n",
       "    <tr>\n",
       "      <td>209</td>\n",
       "      <td>Drake</td>\n",
       "      <td>Can't Take A Joke</td>\n",
       "      <td>4</td>\n",
       "      <td>18</td>\n",
       "      <td>4</td>\n",
       "      <td>56.000000</td>\n",
       "      <td>1</td>\n",
       "      <td>4</td>\n",
       "      <td>17</td>\n",
       "      <td>23</td>\n",
       "    </tr>\n",
       "    <tr>\n",
       "      <td>208</td>\n",
       "      <td>Drake</td>\n",
       "      <td>Survival</td>\n",
       "      <td>2</td>\n",
       "      <td>17</td>\n",
       "      <td>2</td>\n",
       "      <td>43.000000</td>\n",
       "      <td>1</td>\n",
       "      <td>1</td>\n",
       "      <td>8</td>\n",
       "      <td>23</td>\n",
       "    </tr>\n",
       "    <tr>\n",
       "      <td>206</td>\n",
       "      <td>Drake</td>\n",
       "      <td>Mob Ties</td>\n",
       "      <td>8</td>\n",
       "      <td>13</td>\n",
       "      <td>8</td>\n",
       "      <td>61.125000</td>\n",
       "      <td>1</td>\n",
       "      <td>2</td>\n",
       "      <td>8</td>\n",
       "      <td>23</td>\n",
       "    </tr>\n",
       "    <tr>\n",
       "      <td>214</td>\n",
       "      <td>Drake</td>\n",
       "      <td>Jaded</td>\n",
       "      <td>2</td>\n",
       "      <td>32</td>\n",
       "      <td>2</td>\n",
       "      <td>49.500000</td>\n",
       "      <td>1</td>\n",
       "      <td>1</td>\n",
       "      <td>5</td>\n",
       "      <td>23</td>\n",
       "    </tr>\n",
       "  </tbody>\n",
       "</table>\n",
       "<p>704 rows × 10 columns</p>\n",
       "</div>"
      ],
      "text/plain": [
       "                             ime_izvajalca       naslov_pesmi  \\\n",
       "351          Swae Lee Featuring Slim Jxmmi          Guatemala   \n",
       "445  KIDS SEE GHOSTS Featuring Louis Prima      4th Dimension   \n",
       "438                Becky G + Natti Natasha         Sin Pijama   \n",
       "437                                 Weezer             Africa   \n",
       "436       Gorillaz Featuring George Benson           Humility   \n",
       "..                                     ...                ...   \n",
       "210                                  Drake        8 Out Of 10   \n",
       "209                                  Drake  Can't Take A Joke   \n",
       "208                                  Drake           Survival   \n",
       "206                                  Drake           Mob Ties   \n",
       "214                                  Drake              Jaded   \n",
       "\n",
       "     tednov_na_lestvici  najvišje_mesto  tednov  povp_mesto  feats  wrdz  \\\n",
       "351                   1              84       1   84.000000      2     1   \n",
       "445                   1              42       1   42.000000      2     2   \n",
       "438                  12              99      12   89.333333      1     2   \n",
       "437                  15              89      15   68.400000      1     1   \n",
       "436                   1              85       1   85.000000      2     1   \n",
       "..                  ...             ...     ...         ...    ...   ...   \n",
       "210                   3              21       3   59.333333      1     4   \n",
       "209                   4              18       4   56.000000      1     4   \n",
       "208                   2              17       2   43.000000      1     1   \n",
       "206                   8              13       8   61.125000      1     2   \n",
       "214                   2              32       2   49.500000      1     1   \n",
       "\n",
       "     ltrz  vseh_od_izv  \n",
       "351     9            1  \n",
       "445    13            1  \n",
       "438    10            1  \n",
       "437     6            1  \n",
       "436     8            1  \n",
       "..    ...          ...  \n",
       "210    11           23  \n",
       "209    17           23  \n",
       "208     8           23  \n",
       "206     8           23  \n",
       "214     5           23  \n",
       "\n",
       "[704 rows x 10 columns]"
      ]
     },
     "execution_count": 280,
     "metadata": {},
     "output_type": "execute_result"
    }
   ],
   "source": [
    "tabela.sort_values('vseh_od_izv')"
   ]
  },
  {
   "cell_type": "code",
   "execution_count": 274,
   "metadata": {},
   "outputs": [
    {
     "data": {
      "text/plain": [
       "ime_izvajalca\n",
       "2 Chainz Featuring YG & Offset     1\n",
       "Meek Mill Featuring Cardi B        1\n",
       "Meek Mill Featuring 21 Savage      1\n",
       "Mason Ramsey                       1\n",
       "Martin Garrix Featuring Khalid     1\n",
       "                                  ..\n",
       "Lil Wayne                         13\n",
       "Post Malone                       14\n",
       "XXXTENTACION                      17\n",
       "Travis Scott                      17\n",
       "Drake                             23\n",
       "Length: 447, dtype: int64"
      ]
     },
     "execution_count": 274,
     "metadata": {},
     "output_type": "execute_result"
    }
   ],
   "source": [
    "tabela.groupby('ime_izvajalca').size().sort_values()"
   ]
  },
  {
   "cell_type": "code",
   "execution_count": 271,
   "metadata": {},
   "outputs": [
    {
     "data": {
      "text/plain": [
       "<AxesSubplot:xlabel='vseh_od_izv', ylabel='tednov_na_lestvici'>"
      ]
     },
     "execution_count": 271,
     "metadata": {},
     "output_type": "execute_result"
    },
    {
     "data": {
      "image/png": "[encoded data removed]",
      "text/plain": [
       "<Figure size 432x288 with 1 Axes>"
      ]
     },
     "metadata": {
      "needs_background": "light"
     },
     "output_type": "display_data"
    }
   ],
   "source": [
    "tabela.plot(x='vseh_od_izv',y='tednov_na_lestvici',kind='scatter')"
   ]
  },
  {
   "cell_type": "markdown",
   "metadata": {},
   "source": [
    "# Vpliv števila črk oz. besed v naslovu pesmi"
   ]
  },
  {
   "cell_type": "code",
   "execution_count": 282,
   "metadata": {},
   "outputs": [
    {
     "data": {
      "text/plain": [
       "<AxesSubplot:xlabel='wrdz'>"
      ]
     },
     "execution_count": 282,
     "metadata": {},
     "output_type": "execute_result"
    },
    {
     "data": {
      "image/png": "[encoded data removed]",
      "text/plain": [
       "<Figure size 432x288 with 1 Axes>"
      ]
     },
     "metadata": {
      "needs_background": "light"
     },
     "output_type": "display_data"
    }
   ],
   "source": [
    "pesmi.groupby('wrdz').size().plot()"
   ]
  },
  {
   "cell_type": "code",
   "execution_count": 285,
   "metadata": {},
   "outputs": [
    {
     "data": {
      "text/plain": [
       "<AxesSubplot:xlabel='ltrz'>"
      ]
     },
     "execution_count": 285,
     "metadata": {},
     "output_type": "execute_result"
    },
    {
     "data": {
      "image/png": "[encoded data removed]",
      "text/plain": [
       "<Figure size 432x288 with 1 Axes>"
      ]
     },
     "metadata": {
      "needs_background": "light"
     },
     "output_type": "display_data"
    }
   ],
   "source": [
    "pesmi.groupby('ltrz').size().plot.bar()"
   ]
  },
  {
   "cell_type": "code",
   "execution_count": 195,
   "metadata": {},
   "outputs": [
    {
     "data": {
      "text/plain": [
       "<AxesSubplot:xlabel='ltrz', ylabel='tednov_na_lestvici'>"
      ]
     },
     "execution_count": 195,
     "metadata": {},
     "output_type": "execute_result"
    },
    {
     "data": {
      "image/png": "[encoded data removed]",
      "text/plain": [
       "<Figure size 432x288 with 1 Axes>"
      ]
     },
     "metadata": {
      "needs_background": "light"
     },
     "output_type": "display_data"
    }
   ],
   "source": [
    "pesmi.plot(x='ltrz',y='tednov_na_lestvici',kind='scatter')"
   ]
  },
  {
   "cell_type": "code",
   "execution_count": 290,
   "metadata": {},
   "outputs": [
    {
     "data": {
      "text/plain": [
       "<AxesSubplot:xlabel='wrdz'>"
      ]
     },
     "execution_count": 290,
     "metadata": {},
     "output_type": "execute_result"
    },
    {
     "data": {
      "image/png": "[encoded data removed]",
      "text/plain": [
       "<Figure size 432x288 with 1 Axes>"
      ]
     },
     "metadata": {
      "needs_background": "light"
     },
     "output_type": "display_data"
    }
   ],
   "source": [
    "pesmi.groupby('wrdz').mean().plot(y='tednov_na_lestvici',kind='bar')"
   ]
  },
  {
   "cell_type": "code",
   "execution_count": 171,
   "metadata": {},
   "outputs": [
    {
     "data": {
      "text/html": [
       "<div>\n",
       "<style scoped>\n",
       "    .dataframe tbody tr th:only-of-type {\n",
       "        vertical-align: middle;\n",
       "    }\n",
       "\n",
       "    .dataframe tbody tr th {\n",
       "        vertical-align: top;\n",
       "    }\n",
       "\n",
       "    .dataframe thead tr th {\n",
       "        text-align: left;\n",
       "    }\n",
       "\n",
       "    .dataframe thead tr:last-of-type th {\n",
       "        text-align: right;\n",
       "    }\n",
       "</style>\n",
       "<table border=\"1\" class=\"dataframe\">\n",
       "  <thead>\n",
       "    <tr>\n",
       "      <th></th>\n",
       "      <th colspan=\"2\" halign=\"left\">tednov_na_lestvici</th>\n",
       "      <th>najvišje_mesto</th>\n",
       "    </tr>\n",
       "    <tr>\n",
       "      <th></th>\n",
       "      <th>max</th>\n",
       "      <th>sum</th>\n",
       "      <th>min</th>\n",
       "    </tr>\n",
       "    <tr>\n",
       "      <th>ime_izvajalca</th>\n",
       "      <th></th>\n",
       "      <th></th>\n",
       "      <th></th>\n",
       "    </tr>\n",
       "  </thead>\n",
       "  <tbody>\n",
       "    <tr>\n",
       "      <td>2 Chainz Featuring YG &amp; Offset</td>\n",
       "      <td>2</td>\n",
       "      <td>2</td>\n",
       "      <td>96</td>\n",
       "    </tr>\n",
       "    <tr>\n",
       "      <td>2 Chainz, Drake &amp; Quavo</td>\n",
       "      <td>2</td>\n",
       "      <td>2</td>\n",
       "      <td>53</td>\n",
       "    </tr>\n",
       "    <tr>\n",
       "      <td>21 Savage</td>\n",
       "      <td>29</td>\n",
       "      <td>29</td>\n",
       "      <td>12</td>\n",
       "    </tr>\n",
       "    <tr>\n",
       "      <td>5 Seconds Of Summer</td>\n",
       "      <td>29</td>\n",
       "      <td>30</td>\n",
       "      <td>61</td>\n",
       "    </tr>\n",
       "    <tr>\n",
       "      <td>6LACK Featuring J. Cole</td>\n",
       "      <td>1</td>\n",
       "      <td>1</td>\n",
       "      <td>76</td>\n",
       "    </tr>\n",
       "    <tr>\n",
       "      <td>...</td>\n",
       "      <td>...</td>\n",
       "      <td>...</td>\n",
       "      <td>...</td>\n",
       "    </tr>\n",
       "    <tr>\n",
       "      <td>Zedd &amp; Elley Duhe</td>\n",
       "      <td>1</td>\n",
       "      <td>1</td>\n",
       "      <td>90</td>\n",
       "    </tr>\n",
       "    <tr>\n",
       "      <td>Zedd, Maren Morris &amp; Grey</td>\n",
       "      <td>40</td>\n",
       "      <td>40</td>\n",
       "      <td>23</td>\n",
       "    </tr>\n",
       "    <tr>\n",
       "      <td>benny blanco, Halsey &amp; Khalid</td>\n",
       "      <td>23</td>\n",
       "      <td>23</td>\n",
       "      <td>56</td>\n",
       "    </tr>\n",
       "    <tr>\n",
       "      <td>lovelytheband</td>\n",
       "      <td>22</td>\n",
       "      <td>22</td>\n",
       "      <td>84</td>\n",
       "    </tr>\n",
       "    <tr>\n",
       "      <td>twenty one pilots</td>\n",
       "      <td>4</td>\n",
       "      <td>7</td>\n",
       "      <td>60</td>\n",
       "    </tr>\n",
       "  </tbody>\n",
       "</table>\n",
       "<p>447 rows × 3 columns</p>\n",
       "</div>"
      ],
      "text/plain": [
       "                               tednov_na_lestvici     najvišje_mesto\n",
       "                                              max sum            min\n",
       "ime_izvajalca                                                       \n",
       "2 Chainz Featuring YG & Offset                  2   2             96\n",
       "2 Chainz, Drake & Quavo                         2   2             53\n",
       "21 Savage                                      29  29             12\n",
       "5 Seconds Of Summer                            29  30             61\n",
       "6LACK Featuring J. Cole                         1   1             76\n",
       "...                                           ...  ..            ...\n",
       "Zedd & Elley Duhe                               1   1             90\n",
       "Zedd, Maren Morris & Grey                      40  40             23\n",
       "benny blanco, Halsey & Khalid                  23  23             56\n",
       "lovelytheband                                  22  22             84\n",
       "twenty one pilots                               4   7             60\n",
       "\n",
       "[447 rows x 3 columns]"
      ]
     },
     "execution_count": 171,
     "metadata": {},
     "output_type": "execute_result"
    }
   ],
   "source": [
    "pesmi.groupby('ime_izvajalca').agg({'tednov_na_lestvici':[max,sum],'najvišje_mesto':min})"
   ]
  },
  {
   "cell_type": "markdown",
   "metadata": {},
   "source": [
    "# Vpliv števila izvajalcev pesmi"
   ]
  },
  {
   "cell_type": "code",
   "execution_count": 301,
   "metadata": {},
   "outputs": [
    {
     "data": {
      "text/plain": [
       "<AxesSubplot:xlabel='feats'>"
      ]
     },
     "execution_count": 301,
     "metadata": {},
     "output_type": "execute_result"
    },
    {
     "data": {
      "image/png": "[encoded data removed]",
      "text/plain": [
       "<Figure size 432x288 with 1 Axes>"
      ]
     },
     "metadata": {
      "needs_background": "light"
     },
     "output_type": "display_data"
    }
   ],
   "source": [
    "pesmi.groupby('feats').mean().plot(y=['tednov_na_lestvici','najvišje_mesto','povp_mesto'],kind='bar')"
   ]
  },
  {
   "cell_type": "code",
   "execution_count": 294,
   "metadata": {},
   "outputs": [
    {
     "data": {
      "text/plain": [
       "<AxesSubplot:xlabel='feats'>"
      ]
     },
     "execution_count": 294,
     "metadata": {},
     "output_type": "execute_result"
    },
    {
     "data": {
      "image/png": "[encoded data removed]",
      "text/plain": [
       "<Figure size 432x288 with 1 Axes>"
      ]
     },
     "metadata": {
      "needs_background": "light"
     },
     "output_type": "display_data"
    }
   ],
   "source": [
    "pesmi.groupby('feats').mean().plot(y='najvišje_mesto', kind='bar')"
   ]
  },
  {
   "cell_type": "code",
   "execution_count": 199,
   "metadata": {},
   "outputs": [
    {
     "data": {
      "text/plain": [
       "<AxesSubplot:xlabel='feats'>"
      ]
     },
     "execution_count": 199,
     "metadata": {},
     "output_type": "execute_result"
    },
    {
     "data": {
      "image/png": "[encoded data removed]",
      "text/plain": [
       "<Figure size 432x288 with 1 Axes>"
      ]
     },
     "metadata": {
      "needs_background": "light"
     },
     "output_type": "display_data"
    }
   ],
   "source": [
    "pesmi.groupby('feats').mean().plot(y='tednov_na_lestvici', kind='bar')"
   ]
  },
  {
   "cell_type": "code",
   "execution_count": 299,
   "metadata": {},
   "outputs": [
    {
     "data": {
      "text/plain": [
       "<AxesSubplot:xlabel='feats', ylabel='najvišje_mesto'>"
      ]
     },
     "execution_count": 299,
     "metadata": {},
     "output_type": "execute_result"
    },
    {
     "data": {
      "image/png": "[encoded data removed]",
      "text/plain": [
       "<Figure size 432x288 with 1 Axes>"
      ]
     },
     "metadata": {
      "needs_background": "light"
     },
     "output_type": "display_data"
    }
   ],
   "source": [
    "pesmi.plot(x='feats',y='najvišje_mesto',kind='scatter')"
   ]
  },
  {
   "cell_type": "code",
   "execution_count": 300,
   "metadata": {},
   "outputs": [
    {
     "data": {
      "text/plain": [
       "<AxesSubplot:xlabel='najvišje_mesto', ylabel='tednov_na_lestvici'>"
      ]
     },
     "execution_count": 300,
     "metadata": {},
     "output_type": "execute_result"
    },
    {
     "data": {
      "image/png": "[encoded data removed]",
      "text/plain": [
       "<Figure size 432x288 with 1 Axes>"
      ]
     },
     "metadata": {
      "needs_background": "light"
     },
     "output_type": "display_data"
    }
   ],
   "source": [
    "pesmi.plot(x='najvišje_mesto', y='tednov_na_lestvici', kind= 'scatter')"
   ]
  },
  {
   "cell_type": "code",
   "execution_count": 151,
   "metadata": {},
   "outputs": [
    {
     "data": {
      "text/plain": [
       "<AxesSubplot:xlabel='povp_mesto', ylabel='najvišje_mesto'>"
      ]
     },
     "execution_count": 151,
     "metadata": {},
     "output_type": "execute_result"
    },
    {
     "data": {
      "image/png": "[encoded data removed]",
      "text/plain": [
       "<Figure size 432x288 with 1 Axes>"
      ]
     },
     "metadata": {
      "needs_background": "light"
     },
     "output_type": "display_data"
    }
   ],
   "source": [
    "pesmi.plot(x='povp_mesto', y='najvišje_mesto', kind= 'scatter')"
   ]
  },
  {
   "cell_type": "code",
   "execution_count": 295,
   "metadata": {},
   "outputs": [
    {
     "data": {
      "text/plain": [
       "<AxesSubplot:xlabel='feats'>"
      ]
     },
     "execution_count": 295,
     "metadata": {},
     "output_type": "execute_result"
    },
    {
     "data": {
      "image/png": "[encoded data removed]",
      "text/plain": [
       "<Figure size 432x288 with 1 Axes>"
      ]
     },
     "metadata": {
      "needs_background": "light"
     },
     "output_type": "display_data"
    }
   ],
   "source": [
    "pesmi.groupby('feats').size().plot.bar()"
   ]
  },
  {
   "cell_type": "code",
   "execution_count": 210,
   "metadata": {},
   "outputs": [
    {
     "data": {
      "text/plain": [
       "<AxesSubplot:xlabel='wrdz'>"
      ]
     },
     "execution_count": 210,
     "metadata": {},
     "output_type": "execute_result"
    },
    {
     "data": {
      "image/png": "[encoded data removed]",
      "text/plain": [
       "<Figure size 432x288 with 1 Axes>"
      ]
     },
     "metadata": {
      "needs_background": "light"
     },
     "output_type": "display_data"
    }
   ],
   "source": [
    "pesmi.groupby('wrdz').size().plot()"
   ]
  },
  {
   "cell_type": "code",
   "execution_count": 211,
   "metadata": {},
   "outputs": [
    {
     "data": {
      "text/plain": [
       "<AxesSubplot:xlabel='wrdz'>"
      ]
     },
     "execution_count": 211,
     "metadata": {},
     "output_type": "execute_result"
    },
    {
     "data": {
      "image/png": "[encoded data removed]",
      "text/plain": [
       "<Figure size 432x288 with 1 Axes>"
      ]
     },
     "metadata": {
      "needs_background": "light"
     },
     "output_type": "display_data"
    }
   ],
   "source": [
    "pesmi.groupby('wrdz').mean().plot(y='povp_mesto')"
   ]
  },
  {
   "cell_type": "code",
   "execution_count": 225,
   "metadata": {},
   "outputs": [
    {
     "data": {
      "text/plain": [
       "naslov_pesmi\n",
       "(There's No Place Like) Home For The Holidays    1\n",
       "Overnight                                        1\n",
       "Paramedic!                                       1\n",
       "Paranoid                                         1\n",
       "Pass Out                                         1\n",
       "                                                ..\n",
       "Ocean                                            2\n",
       "Finesse                                          2\n",
       "Intro                                            2\n",
       "Kamikaze                                         2\n",
       "Friends                                          3\n",
       "Length: 694, dtype: int64"
      ]
     },
     "execution_count": 225,
     "metadata": {},
     "output_type": "execute_result"
    }
   ],
   "source": [
    "pesmi.groupby('naslov_pesmi').size().sort_values()"
   ]
  }
 ],
 "metadata": {
  "kernelspec": {
   "display_name": "Python 3",
   "language": "python",
   "name": "python3"
  },
  "language_info": {
   "codemirror_mode": {
    "name": "ipython",
    "version": 3
   },
   "file_extension": ".py",
   "mimetype": "text/x-python",
   "name": "python",
   "nbconvert_exporter": "python",
   "pygments_lexer": "ipython3",
   "version": "3.7.4"
  }
 },
 "nbformat": 4,
 "nbformat_minor": 4
}
